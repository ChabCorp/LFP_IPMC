{
 "cells": [
  {
   "cell_type": "code",
   "execution_count": 2,
   "metadata": {},
   "outputs": [],
   "source": [
    "%load_ext autoreload\n",
    "%autoreload 2"
   ]
  },
  {
   "cell_type": "code",
   "execution_count": 3,
   "metadata": {},
   "outputs": [],
   "source": [
    "import pandas as pd\n",
    "import matplotlib.pyplot as plt"
   ]
  },
  {
   "cell_type": "code",
   "execution_count": 4,
   "metadata": {},
   "outputs": [],
   "source": [
    "sampling_rate = 250 # in seconds\n",
    "time = 1/sampling_rate\n",
    "unit_time = 's'"
   ]
  },
  {
   "cell_type": "code",
   "execution_count": 5,
   "metadata": {},
   "outputs": [],
   "source": [
    "df = pd.read_csv('../data/eeg_j7.txt')\n",
    "# df = df.iloc[int(start*20_000):int(end*20_000)] \n",
    "df['time'] = df.index * time\n",
    "df.rename(columns={'0': 'µV'}, inplace=True)"
   ]
  },
  {
   "attachments": {},
   "cell_type": "markdown",
   "metadata": {},
   "source": [
    "## Divide by timestemp"
   ]
  },
  {
   "cell_type": "code",
   "execution_count": 6,
   "metadata": {},
   "outputs": [
    {
     "data": {
      "text/html": [
       "<div>\n",
       "<style scoped>\n",
       "    .dataframe tbody tr th:only-of-type {\n",
       "        vertical-align: middle;\n",
       "    }\n",
       "\n",
       "    .dataframe tbody tr th {\n",
       "        vertical-align: top;\n",
       "    }\n",
       "\n",
       "    .dataframe thead th {\n",
       "        text-align: right;\n",
       "    }\n",
       "</style>\n",
       "<table border=\"1\" class=\"dataframe\">\n",
       "  <thead>\n",
       "    <tr style=\"text-align: right;\">\n",
       "      <th></th>\n",
       "      <th>chemins</th>\n",
       "      <th>tsL</th>\n",
       "    </tr>\n",
       "  </thead>\n",
       "  <tbody>\n",
       "    <tr>\n",
       "      <th>0</th>\n",
       "      <td>abcba</td>\n",
       "      <td>(0.02, 62.78)</td>\n",
       "    </tr>\n",
       "    <tr>\n",
       "      <th>1</th>\n",
       "      <td>abce</td>\n",
       "      <td>(161.32, 179.6)</td>\n",
       "    </tr>\n",
       "    <tr>\n",
       "      <th>2</th>\n",
       "      <td>abcba</td>\n",
       "      <td>(199.78, 242.64)</td>\n",
       "    </tr>\n",
       "    <tr>\n",
       "      <th>3</th>\n",
       "      <td>aba</td>\n",
       "      <td>(336.66, 337.24)</td>\n",
       "    </tr>\n",
       "    <tr>\n",
       "      <th>4</th>\n",
       "      <td>abcbcd</td>\n",
       "      <td>(338.2, 358.0)</td>\n",
       "    </tr>\n",
       "    <tr>\n",
       "      <th>5</th>\n",
       "      <td>abcd</td>\n",
       "      <td>(382.94, 449.02)</td>\n",
       "    </tr>\n",
       "    <tr>\n",
       "      <th>6</th>\n",
       "      <td>abce</td>\n",
       "      <td>(496.86, 614.74)</td>\n",
       "    </tr>\n",
       "    <tr>\n",
       "      <th>7</th>\n",
       "      <td>abce</td>\n",
       "      <td>(629.5, 665.46)</td>\n",
       "    </tr>\n",
       "    <tr>\n",
       "      <th>8</th>\n",
       "      <td>abcd</td>\n",
       "      <td>(706.52, 832.84)</td>\n",
       "    </tr>\n",
       "    <tr>\n",
       "      <th>9</th>\n",
       "      <td>abcba</td>\n",
       "      <td>(859.06, 920.34)</td>\n",
       "    </tr>\n",
       "    <tr>\n",
       "      <th>10</th>\n",
       "      <td>abce</td>\n",
       "      <td>(1018.4, 1028.72)</td>\n",
       "    </tr>\n",
       "    <tr>\n",
       "      <th>11</th>\n",
       "      <td>abcd</td>\n",
       "      <td>(1049.9, 1123.96)</td>\n",
       "    </tr>\n",
       "    <tr>\n",
       "      <th>12</th>\n",
       "      <td>abce</td>\n",
       "      <td>(1193.28, 1330.66)</td>\n",
       "    </tr>\n",
       "    <tr>\n",
       "      <th>13</th>\n",
       "      <td>abcba</td>\n",
       "      <td>(1343.58, 1379.16)</td>\n",
       "    </tr>\n",
       "    <tr>\n",
       "      <th>14</th>\n",
       "      <td>abce</td>\n",
       "      <td>(1478.86, 1519.26)</td>\n",
       "    </tr>\n",
       "    <tr>\n",
       "      <th>15</th>\n",
       "      <td>aba</td>\n",
       "      <td>(1620.9, 1671.3)</td>\n",
       "    </tr>\n",
       "    <tr>\n",
       "      <th>16</th>\n",
       "      <td>abce</td>\n",
       "      <td>(1776.84, 1818.26)</td>\n",
       "    </tr>\n",
       "    <tr>\n",
       "      <th>17</th>\n",
       "      <td>abcba</td>\n",
       "      <td>(1945.08, 1985.68)</td>\n",
       "    </tr>\n",
       "    <tr>\n",
       "      <th>18</th>\n",
       "      <td>abcbcbcbcd</td>\n",
       "      <td>(2086.1, 2115.04)</td>\n",
       "    </tr>\n",
       "    <tr>\n",
       "      <th>19</th>\n",
       "      <td>abcd</td>\n",
       "      <td>(2135.96, 2176.46)</td>\n",
       "    </tr>\n",
       "    <tr>\n",
       "      <th>20</th>\n",
       "      <td>abce</td>\n",
       "      <td>(2214.0, 2358.0)</td>\n",
       "    </tr>\n",
       "  </tbody>\n",
       "</table>\n",
       "</div>"
      ],
      "text/plain": [
       "       chemins                 tsL\n",
       "0        abcba       (0.02, 62.78)\n",
       "1         abce     (161.32, 179.6)\n",
       "2        abcba    (199.78, 242.64)\n",
       "3          aba    (336.66, 337.24)\n",
       "4       abcbcd      (338.2, 358.0)\n",
       "5         abcd    (382.94, 449.02)\n",
       "6         abce    (496.86, 614.74)\n",
       "7         abce     (629.5, 665.46)\n",
       "8         abcd    (706.52, 832.84)\n",
       "9        abcba    (859.06, 920.34)\n",
       "10        abce   (1018.4, 1028.72)\n",
       "11        abcd   (1049.9, 1123.96)\n",
       "12        abce  (1193.28, 1330.66)\n",
       "13       abcba  (1343.58, 1379.16)\n",
       "14        abce  (1478.86, 1519.26)\n",
       "15         aba    (1620.9, 1671.3)\n",
       "16        abce  (1776.84, 1818.26)\n",
       "17       abcba  (1945.08, 1985.68)\n",
       "18  abcbcbcbcd   (2086.1, 2115.04)\n",
       "19        abcd  (2135.96, 2176.46)\n",
       "20        abce    (2214.0, 2358.0)"
      ]
     },
     "execution_count": 6,
     "metadata": {},
     "output_type": "execute_result"
    }
   ],
   "source": [
    "with open(\"../data/time_stemp_2_J13.txt\", 'r' ) as f : \n",
    "    time_stemp = [*f.read().strip()]\n",
    "\n",
    "def tstemp(position:list = time_stemp, second:str = '../data/time_stemp_2_J13.csv') : \n",
    "    df = pd.read_csv(second, header = 0)\n",
    "    res = []\n",
    "    positionTime = list(zip(df['second'], df['position']))\n",
    "    tsL = []\n",
    "    chemins = []\n",
    "    i = 0\n",
    "    aBool = False\n",
    "    while i < len(positionTime)-1 :\n",
    "        \n",
    "        if positionTime[i][1] == 'a' :\n",
    "            if aBool :\n",
    "                start = positionTime[i+1][0]\n",
    "            else :\n",
    "                start = positionTime[i][0]\n",
    "            j=1\n",
    "            \n",
    "            while positionTime[i+j][1] != 'a' and positionTime[i+j][1] != 'e' and positionTime[i+j][1] != 'd' and positionTime[i+j][1] != 'f':\n",
    "                j+=1\n",
    "            \n",
    "            \n",
    "            \n",
    "            if positionTime[i+j][1] == 'a' :\n",
    "                chemins.append(\"\".join([_[1] for _ in positionTime[i:i+j+1]]))\n",
    "                \n",
    "                end = positionTime[i+j][0]\n",
    "                aBool = True\n",
    "                \n",
    "            elif positionTime[i+j][1] == 'e' :\n",
    "                chemins.append(\"\".join([_[1] for _ in positionTime[i:i+j+1]]))\n",
    "                aBool = False\n",
    "            elif positionTime[i+j][1] == 'd' :\n",
    "                chemins.append(\"\".join([_[1] for _ in positionTime[i:i+j+1]]))\n",
    "                aBool = False\n",
    "            \n",
    "            end = positionTime[i+j][0]\n",
    "            tsL.append((start, end))\n",
    "        i+=1\n",
    "\n",
    "    return chemins, tsL\n",
    "\n",
    "cheminsDeb,tsLDeb = tstemp()\n",
    "cheminsFin,tsLFin = tstemp(second = '../data/time_stemp_2_J13_end.csv')\n",
    "\n",
    "df1 = pd.DataFrame(zip(cheminsDeb, tsLDeb), columns = ['chemins', 'tsL'])\n",
    "df2 = pd.DataFrame(zip(cheminsFin, tsLFin), columns = ['chemins', 'tsL'])\n",
    "df1\n"
   ]
  },
  {
   "cell_type": "code",
   "execution_count": 7,
   "metadata": {},
   "outputs": [],
   "source": [
    "tsLDeb.extend(tsLFin)\n",
    "tsL = tsLDeb"
   ]
  },
  {
   "cell_type": "code",
   "execution_count": 8,
   "metadata": {},
   "outputs": [],
   "source": [
    "tsL.remove((336.66, 337.24))"
   ]
  },
  {
   "cell_type": "code",
   "execution_count": 9,
   "metadata": {},
   "outputs": [],
   "source": [
    "sampleStart = [_[0] for _ in tsL[::2]]\n",
    "choiceStart = [_[0] for _ in tsL[1::2]]\n",
    "sampleEnd = [_[1] for _ in tsL[1::2]]\n",
    "choiceEnd = [_[1] for _ in tsL[2::2]]"
   ]
  },
  {
   "cell_type": "code",
   "execution_count": 10,
   "metadata": {},
   "outputs": [],
   "source": [
    "samplePhase = [_ for _ in tsL[::2]]\n",
    "choicePhase = [_ for _ in tsL[1::2]]"
   ]
  },
  {
   "cell_type": "code",
   "execution_count": 11,
   "metadata": {},
   "outputs": [
    {
     "name": "stdout",
     "output_type": "stream",
     "text": [
      "[(0.02, 62.78), (199.78, 242.64), (382.94, 449.02), (629.5, 665.46), (859.06, 920.34), (1049.9, 1123.96), (1343.58, 1379.16), (1620.9, 1671.3), (1945.08, 1985.68), (2135.96, 2176.46), (4247.4, 4288.1), (4457.88, 4491.12), (4660.82, 4717.24), (4914.66, 4945.66), (5243.58, 5282.82), (5465.82, 5487.82), (5801.04, 5836.86), (6059.9, 6079.62), (6461.38, 6478.56), (6711.64, 6744.96)]\n"
     ]
    }
   ],
   "source": [
    "print(samplePhase)"
   ]
  },
  {
   "cell_type": "code",
   "execution_count": 200,
   "metadata": {},
   "outputs": [
    {
     "name": "stdout",
     "output_type": "stream",
     "text": [
      "[161.32, 338.2, 496.86, 706.52, 1018.4, 1193.28, 1478.86, 1776.84, 2086.1, 2214.0, 4385.42, 4523.34, 4813.8, 5013.44, 5326.42, 5531.28, 5869.82, 6103.62, 6531.32, 6801.36]\n"
     ]
    }
   ],
   "source": [
    "print(choiceStart)"
   ]
  }
 ],
 "metadata": {
  "kernelspec": {
   "display_name": "base",
   "language": "python",
   "name": "python3"
  },
  "language_info": {
   "codemirror_mode": {
    "name": "ipython",
    "version": 3
   },
   "file_extension": ".py",
   "mimetype": "text/x-python",
   "name": "python",
   "nbconvert_exporter": "python",
   "pygments_lexer": "ipython3",
   "version": "3.8.8"
  },
  "orig_nbformat": 4,
  "vscode": {
   "interpreter": {
    "hash": "85e04e894147ea624860d5799eea00fada423de61936cd1644903c55390c97e4"
   }
  }
 },
 "nbformat": 4,
 "nbformat_minor": 2
}
