{
 "cells": [
  {
   "cell_type": "code",
   "execution_count": 2,
   "metadata": {},
   "outputs": [],
   "source": [
    "%load_ext autoreload\n",
    "%autoreload 2"
   ]
  },
  {
   "cell_type": "code",
   "execution_count": 3,
   "metadata": {},
   "outputs": [],
   "source": [
    "import pandas as pd\n",
    "import matplotlib.pyplot as plt"
   ]
  },
  {
   "cell_type": "code",
   "execution_count": 4,
   "metadata": {},
   "outputs": [],
   "source": [
    "sampling_rate = 250 # in seconds\n",
    "time = 1/sampling_rate\n",
    "unit_time = 's'"
   ]
  },
  {
   "cell_type": "code",
   "execution_count": 5,
   "metadata": {},
   "outputs": [
    {
     "name": "stdout",
     "output_type": "stream",
     "text": [
      "[(0.02, 62.78), (199.78, 242.64), (382.94, 449.02), (629.5, 665.46), (859.06, 920.34), (1049.9, 1123.96), (1343.58, 1379.16), (1620.9, 1671.3), (1945.08, 1985.68), (2135.96, 2176.46), (4247.4, 4288.1), (4457.88, 4491.12), (4660.82, 4717.24), (4914.66, 4945.66), (5243.58, 5282.82), (5465.82, 5487.82), (5801.04, 5836.86), (6059.9, 6079.62), (6461.38, 6478.56), (6711.64, 6744.96)]\n",
      "[(161.32, 179.6), (338.2, 358.0), (496.86, 614.74), (706.52, 832.84), (1018.4, 1028.72), (1193.28, 1330.66), (1478.86, 1519.26), (1776.84, 1818.26), (2086.1, 2115.04), (2214.0, 2358.0), (4385.42, 4407.76), (4523.34, 4644.14), (4813.8, 4837.26), (5013.44, 5125.9), (5326.42, 5444.2), (5531.28, 5709.04), (5869.82, 5976.2), (6103.62, 6302.44), (6531.32, 6640.8), (6801.36, 6943.74)]\n"
     ]
    }
   ],
   "source": [
    "df = pd.read_csv('../data/eeg_j7.txt')\n",
    "# df = df.iloc[int(start*20_000):int(end*20_000)] \n",
    "df['time'] = df.index * time\n",
    "df.rename(columns={'0': 'µV'}, inplace=True)\n",
    "\n",
    "with open(\"../data/time_stemp_2_J13.txt\", 'r' ) as f : \n",
    "    time_stemp = [*f.read().strip()]\n",
    "\n",
    "def tstemp(position:list = time_stemp, second:str = '../data/time_stemp_2_J13.csv') : \n",
    "    df = pd.read_csv(second, header = 0)\n",
    "    res = []\n",
    "    positionTime = list(zip(df['second'], df['position']))\n",
    "    tsL = []\n",
    "    chemins = []\n",
    "    i = 0\n",
    "    aBool = False\n",
    "    while i < len(positionTime)-1 :\n",
    "        \n",
    "        if positionTime[i][1] == 'a' :\n",
    "            if aBool :\n",
    "                start = positionTime[i+1][0]\n",
    "            else :\n",
    "                start = positionTime[i][0]\n",
    "            j=1\n",
    "            \n",
    "            while positionTime[i+j][1] != 'a' and positionTime[i+j][1] != 'e' and positionTime[i+j][1] != 'd' and positionTime[i+j][1] != 'f':\n",
    "                j+=1\n",
    "            \n",
    "            \n",
    "            \n",
    "            if positionTime[i+j][1] == 'a' :\n",
    "                chemins.append(\"\".join([_[1] for _ in positionTime[i:i+j+1]]))\n",
    "                \n",
    "                end = positionTime[i+j][0]\n",
    "                aBool = True\n",
    "                \n",
    "            elif positionTime[i+j][1] == 'e' :\n",
    "                chemins.append(\"\".join([_[1] for _ in positionTime[i:i+j+1]]))\n",
    "                aBool = False\n",
    "            elif positionTime[i+j][1] == 'd' :\n",
    "                chemins.append(\"\".join([_[1] for _ in positionTime[i:i+j+1]]))\n",
    "                aBool = False\n",
    "            \n",
    "            end = positionTime[i+j][0]\n",
    "            tsL.append((start, end))\n",
    "        i+=1\n",
    "\n",
    "    return chemins, tsL\n",
    "\n",
    "cheminsDeb,tsLDeb = tstemp()\n",
    "cheminsFin,tsLFin = tstemp(second = '../data/time_stemp_2_J13_end.csv')\n",
    "\n",
    "df1 = pd.DataFrame(zip(cheminsDeb, tsLDeb), columns = ['chemins', 'tsL'])\n",
    "df2 = pd.DataFrame(zip(cheminsFin, tsLFin), columns = ['chemins', 'tsL'])\n",
    "tsLDeb.extend(tsLFin)\n",
    "tsL = tsLDeb\n",
    "tsL.remove((336.66, 337.24))\n",
    "\n",
    "samplePhase = [_ for _ in tsL[::2]]\n",
    "choicePhase = [_ for _ in tsL[1::2]]\n",
    "\n",
    "print(samplePhase)\n",
    "print(choicePhase)"
   ]
  },
  {
   "attachments": {},
   "cell_type": "markdown",
   "metadata": {},
   "source": [
    "Mean for Choice phase"
   ]
  },
  {
   "cell_type": "code",
   "execution_count": 7,
   "metadata": {},
   "outputs": [
    {
     "name": "stdout",
     "output_type": "stream",
     "text": [
      "mean for choice phase : 90.82 s\n",
      "mean for sample phase : 41.936 s\n"
     ]
    }
   ],
   "source": [
    "count = 0 \n",
    "for i in choicePhase: \n",
    "    count += i[1] - i[0]\n",
    "print(f\"mean for choice phase : {round(count/len(choicePhase),4)} s\")\n",
    "\n",
    "count = 0\n",
    "for i in samplePhase:\n",
    "    count += i[1] - i[0]\n",
    "print(f\"mean for sample phase : {round(count/len(samplePhase),4)} s\")"
   ]
  }
 ],
 "metadata": {
  "kernelspec": {
   "display_name": "base",
   "language": "python",
   "name": "python3"
  },
  "language_info": {
   "codemirror_mode": {
    "name": "ipython",
    "version": 3
   },
   "file_extension": ".py",
   "mimetype": "text/x-python",
   "name": "python",
   "nbconvert_exporter": "python",
   "pygments_lexer": "ipython3",
   "version": "3.9.15"
  },
  "orig_nbformat": 4,
  "vscode": {
   "interpreter": {
    "hash": "64cdbf2ddcb9cd73e43d780a5c38adc9c5cb93dd1a925db9d35733ec03fb2329"
   }
  }
 },
 "nbformat": 4,
 "nbformat_minor": 2
}
